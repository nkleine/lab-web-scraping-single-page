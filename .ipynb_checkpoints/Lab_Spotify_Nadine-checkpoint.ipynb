{
 "cells": [
  {
   "cell_type": "markdown",
   "id": "03b11644",
   "metadata": {},
   "source": [
    "# Lab 3: Build a massive Playlist from Spotify with Artist, Title and  Audio feature"
   ]
  },
  {
   "cell_type": "markdown",
   "id": "889855a3",
   "metadata": {},
   "source": [
    "## Bringing in the Wrapper:"
   ]
  },
  {
   "cell_type": "code",
   "execution_count": 1,
   "id": "7b32c02d",
   "metadata": {},
   "outputs": [
    {
     "name": "stdout",
     "output_type": "stream",
     "text": [
      "Defaulting to user installation because normal site-packages is not writeable\n",
      "Requirement already satisfied: spotipy in c:\\users\\nadine kleine\\appdata\\roaming\\python\\python39\\site-packages (2.20.0)\n",
      "Requirement already satisfied: urllib3>=1.26.0 in c:\\programdata\\anaconda3\\lib\\site-packages (from spotipy) (1.26.9)\n",
      "Requirement already satisfied: requests>=2.25.0 in c:\\programdata\\anaconda3\\lib\\site-packages (from spotipy) (2.27.1)\n",
      "Requirement already satisfied: redis>=3.5.3 in c:\\users\\nadine kleine\\appdata\\roaming\\python\\python39\\site-packages (from spotipy) (4.3.4)\n",
      "Requirement already satisfied: six>=1.15.0 in c:\\programdata\\anaconda3\\lib\\site-packages (from spotipy) (1.16.0)\n",
      "Requirement already satisfied: packaging>=20.4 in c:\\programdata\\anaconda3\\lib\\site-packages (from redis>=3.5.3->spotipy) (21.3)\n",
      "Requirement already satisfied: async-timeout>=4.0.2 in c:\\users\\nadine kleine\\appdata\\roaming\\python\\python39\\site-packages (from redis>=3.5.3->spotipy) (4.0.2)\n",
      "Requirement already satisfied: deprecated>=1.2.3 in c:\\users\\nadine kleine\\appdata\\roaming\\python\\python39\\site-packages (from redis>=3.5.3->spotipy) (1.2.13)\n",
      "Requirement already satisfied: wrapt<2,>=1.10 in c:\\programdata\\anaconda3\\lib\\site-packages (from deprecated>=1.2.3->redis>=3.5.3->spotipy) (1.12.1)\n",
      "Requirement already satisfied: pyparsing!=3.0.5,>=2.0.2 in c:\\programdata\\anaconda3\\lib\\site-packages (from packaging>=20.4->redis>=3.5.3->spotipy) (3.0.4)\n",
      "Requirement already satisfied: charset-normalizer~=2.0.0 in c:\\programdata\\anaconda3\\lib\\site-packages (from requests>=2.25.0->spotipy) (2.0.4)\n",
      "Requirement already satisfied: certifi>=2017.4.17 in c:\\programdata\\anaconda3\\lib\\site-packages (from requests>=2.25.0->spotipy) (2021.10.8)\n",
      "Requirement already satisfied: idna<4,>=2.5 in c:\\programdata\\anaconda3\\lib\\site-packages (from requests>=2.25.0->spotipy) (3.3)\n"
     ]
    }
   ],
   "source": [
    "!pip install spotipy"
   ]
  },
  {
   "cell_type": "code",
   "execution_count": 2,
   "id": "e9010c94",
   "metadata": {},
   "outputs": [],
   "source": [
    "secrets_file = open(\"secrets.txt\",\"r\")"
   ]
  },
  {
   "cell_type": "code",
   "execution_count": 3,
   "id": "2d597ec5",
   "metadata": {},
   "outputs": [],
   "source": [
    "string = secrets_file.read()"
   ]
  },
  {
   "cell_type": "code",
   "execution_count": 4,
   "id": "41da9b27",
   "metadata": {},
   "outputs": [
    {
     "data": {
      "text/plain": [
       "'cid:85a00ad18bbc4abe8b3bdc07604afda1\\ncsecret:879fe93205324ab1941d97a2fd98ff8d'"
      ]
     },
     "execution_count": 4,
     "metadata": {},
     "output_type": "execute_result"
    }
   ],
   "source": [
    "string"
   ]
  },
  {
   "cell_type": "code",
   "execution_count": 5,
   "id": "742e3b31",
   "metadata": {},
   "outputs": [
    {
     "data": {
      "text/plain": [
       "['cid:85a00ad18bbc4abe8b3bdc07604afda1',\n",
       " 'csecret:879fe93205324ab1941d97a2fd98ff8d']"
      ]
     },
     "execution_count": 5,
     "metadata": {},
     "output_type": "execute_result"
    }
   ],
   "source": [
    "string.split('\\n')"
   ]
  },
  {
   "cell_type": "code",
   "execution_count": 6,
   "id": "e1b1615f",
   "metadata": {},
   "outputs": [
    {
     "name": "stdout",
     "output_type": "stream",
     "text": [
      "['cid', '85a00ad18bbc4abe8b3bdc07604afda1']\n",
      "['csecret', '879fe93205324ab1941d97a2fd98ff8d']\n"
     ]
    }
   ],
   "source": [
    "secrets_dict={}\n",
    "for line in string.split('\\n'):\n",
    "    if len(line) > 0:\n",
    "        print(line.split(':'))\n",
    "        secrets_dict[line.split(':')[0]]=line.split(':')[1].strip()"
   ]
  },
  {
   "cell_type": "code",
   "execution_count": 7,
   "id": "c378229d",
   "metadata": {},
   "outputs": [
    {
     "data": {
      "text/plain": [
       "{'cid': '85a00ad18bbc4abe8b3bdc07604afda1',\n",
       " 'csecret': '879fe93205324ab1941d97a2fd98ff8d'}"
      ]
     },
     "execution_count": 7,
     "metadata": {},
     "output_type": "execute_result"
    }
   ],
   "source": [
    "secrets_dict"
   ]
  },
  {
   "cell_type": "code",
   "execution_count": 8,
   "id": "6880b0c6",
   "metadata": {},
   "outputs": [],
   "source": [
    "import spotipy\n",
    "from spotipy.oauth2 import SpotifyClientCredentials\n",
    "\n",
    "#Initialize SpotiPy with user credentials\n",
    "sp = spotipy.Spotify(auth_manager=SpotifyClientCredentials(client_id=secrets_dict['cid'],\n",
    "                                                           client_secret=secrets_dict['csecret']))"
   ]
  },
  {
   "cell_type": "markdown",
   "id": "9c0c9d9f",
   "metadata": {},
   "source": [
    "## Searching for playlists:"
   ]
  },
  {
   "cell_type": "markdown",
   "id": "cb0b00c3",
   "metadata": {},
   "source": [
    "### First playlist: biggest playlist ever"
   ]
  },
  {
   "cell_type": "code",
   "execution_count": 10,
   "id": "7c0af349",
   "metadata": {},
   "outputs": [],
   "source": [
    "playlist1 = sp.user_playlist_tracks(\"spotify\", \"4rnleEAOdmFAbRcNCgZMpY\")"
   ]
  },
  {
   "cell_type": "code",
   "execution_count": 11,
   "id": "9e3f07eb",
   "metadata": {},
   "outputs": [
    {
     "data": {
      "text/plain": [
       "5295"
      ]
     },
     "execution_count": 11,
     "metadata": {},
     "output_type": "execute_result"
    }
   ],
   "source": [
    "playlist1[\"total\"] "
   ]
  },
  {
   "cell_type": "code",
   "execution_count": 147,
   "id": "80326818",
   "metadata": {},
   "outputs": [],
   "source": [
    "from random import randint\n",
    "from time import sleep\n",
    "\n",
    "def get_playlist_tracks(playlist_id):\n",
    "    results = sp.user_playlist_tracks(\"spotify\",playlist_id)\n",
    "    tracks = results['items']  \n",
    "    while results['next']!=None:\n",
    "        results = sp.next(results)\n",
    "        tracks = tracks + results['items']  \n",
    "        sleep(randint(1,3)) \n",
    "    return tracks"
   ]
  },
  {
   "cell_type": "code",
   "execution_count": 150,
   "id": "018840bc",
   "metadata": {},
   "outputs": [
    {
     "data": {
      "text/plain": [
       "5295"
      ]
     },
     "execution_count": 150,
     "metadata": {},
     "output_type": "execute_result"
    }
   ],
   "source": [
    "all_tracks = get_playlist_tracks(\"4rnleEAOdmFAbRcNCgZMpY\")\n",
    "len(all_tracks)"
   ]
  },
  {
   "cell_type": "code",
   "execution_count": null,
   "id": "7f92a829",
   "metadata": {},
   "outputs": [],
   "source": []
  },
  {
   "cell_type": "code",
   "execution_count": 151,
   "id": "a59c45d8",
   "metadata": {},
   "outputs": [],
   "source": [
    "title = []\n",
    "artist = []\n",
    "uri = []\n",
    "for i in range(len(all_tracks)):\n",
    "    artist.append(all_tracks[i][\"track\"][\"album\"]['artists'][0]['name'])\n",
    "    title.append(all_tracks[i]['track']['name'])\n",
    "    uri.append(all_tracks[i]['track']['uri'])"
   ]
  },
  {
   "cell_type": "code",
   "execution_count": 152,
   "id": "c61ed83b",
   "metadata": {},
   "outputs": [
    {
     "data": {
      "text/plain": [
       "5295"
      ]
     },
     "execution_count": 152,
     "metadata": {},
     "output_type": "execute_result"
    }
   ],
   "source": [
    "len(uri)"
   ]
  },
  {
   "cell_type": "code",
   "execution_count": 155,
   "id": "150d219a",
   "metadata": {},
   "outputs": [],
   "source": [
    "import pandas as pd"
   ]
  },
  {
   "cell_type": "code",
   "execution_count": 156,
   "id": "87ab44f1",
   "metadata": {},
   "outputs": [],
   "source": [
    "pl1 = pd.DataFrame({'artist' : artist, 'title' : title, 'uri': uri})"
   ]
  },
  {
   "cell_type": "code",
   "execution_count": 157,
   "id": "6c14251e",
   "metadata": {},
   "outputs": [
    {
     "data": {
      "text/html": [
       "<div>\n",
       "<style scoped>\n",
       "    .dataframe tbody tr th:only-of-type {\n",
       "        vertical-align: middle;\n",
       "    }\n",
       "\n",
       "    .dataframe tbody tr th {\n",
       "        vertical-align: top;\n",
       "    }\n",
       "\n",
       "    .dataframe thead th {\n",
       "        text-align: right;\n",
       "    }\n",
       "</style>\n",
       "<table border=\"1\" class=\"dataframe\">\n",
       "  <thead>\n",
       "    <tr style=\"text-align: right;\">\n",
       "      <th></th>\n",
       "      <th>artist</th>\n",
       "      <th>title</th>\n",
       "      <th>uri</th>\n",
       "    </tr>\n",
       "  </thead>\n",
       "  <tbody>\n",
       "    <tr>\n",
       "      <th>0</th>\n",
       "      <td>Hozier</td>\n",
       "      <td>Take Me To Church</td>\n",
       "      <td>spotify:track:7dS5EaCoMnN7DzlpT6aRn2</td>\n",
       "    </tr>\n",
       "    <tr>\n",
       "      <th>1</th>\n",
       "      <td>Mike Posner</td>\n",
       "      <td>Cooler Than Me - Single Mix</td>\n",
       "      <td>spotify:track:2V4bv1fNWfTcyRJKmej6Sj</td>\n",
       "    </tr>\n",
       "    <tr>\n",
       "      <th>2</th>\n",
       "      <td>Tyler, The Creator</td>\n",
       "      <td>See You Again (feat. Kali Uchis)</td>\n",
       "      <td>spotify:track:7KA4W4McWYRpgf0fWsJZWB</td>\n",
       "    </tr>\n",
       "    <tr>\n",
       "      <th>3</th>\n",
       "      <td>Bastille</td>\n",
       "      <td>Pompeii</td>\n",
       "      <td>spotify:track:3gbBpTdY8lnQwqxNCcf795</td>\n",
       "    </tr>\n",
       "    <tr>\n",
       "      <th>4</th>\n",
       "      <td>Shakira</td>\n",
       "      <td>Hips Don't Lie (feat. Wyclef Jean)</td>\n",
       "      <td>spotify:track:3ZFTkvIE7kyPt6Nu3PEa7V</td>\n",
       "    </tr>\n",
       "  </tbody>\n",
       "</table>\n",
       "</div>"
      ],
      "text/plain": [
       "               artist                               title  \\\n",
       "0              Hozier                   Take Me To Church   \n",
       "1         Mike Posner         Cooler Than Me - Single Mix   \n",
       "2  Tyler, The Creator    See You Again (feat. Kali Uchis)   \n",
       "3            Bastille                             Pompeii   \n",
       "4             Shakira  Hips Don't Lie (feat. Wyclef Jean)   \n",
       "\n",
       "                                    uri  \n",
       "0  spotify:track:7dS5EaCoMnN7DzlpT6aRn2  \n",
       "1  spotify:track:2V4bv1fNWfTcyRJKmej6Sj  \n",
       "2  spotify:track:7KA4W4McWYRpgf0fWsJZWB  \n",
       "3  spotify:track:3gbBpTdY8lnQwqxNCcf795  \n",
       "4  spotify:track:3ZFTkvIE7kyPt6Nu3PEa7V  "
      ]
     },
     "execution_count": 157,
     "metadata": {},
     "output_type": "execute_result"
    }
   ],
   "source": [
    "pl1.head()"
   ]
  },
  {
   "cell_type": "code",
   "execution_count": 158,
   "id": "55a9bae7",
   "metadata": {},
   "outputs": [
    {
     "data": {
      "text/plain": [
       "(5295, 3)"
      ]
     },
     "execution_count": 158,
     "metadata": {},
     "output_type": "execute_result"
    }
   ],
   "source": [
    "pl1.shape"
   ]
  },
  {
   "cell_type": "code",
   "execution_count": null,
   "id": "9b7e6d8b",
   "metadata": {},
   "outputs": [],
   "source": []
  },
  {
   "cell_type": "markdown",
   "id": "cc3867b8",
   "metadata": {},
   "source": [
    "### Second playlist: "
   ]
  },
  {
   "cell_type": "code",
   "execution_count": 159,
   "id": "d119c4ed",
   "metadata": {},
   "outputs": [],
   "source": [
    "playlist2 = sp.user_playlist_tracks(\"spotify\", \"1G8IpkZKobrIlXcVPoSIuf\")"
   ]
  },
  {
   "cell_type": "code",
   "execution_count": 160,
   "id": "c12ab788",
   "metadata": {},
   "outputs": [
    {
     "data": {
      "text/plain": [
       "10000"
      ]
     },
     "execution_count": 160,
     "metadata": {},
     "output_type": "execute_result"
    }
   ],
   "source": [
    "playlist2[\"total\"] "
   ]
  },
  {
   "cell_type": "code",
   "execution_count": 161,
   "id": "d6634152",
   "metadata": {},
   "outputs": [
    {
     "data": {
      "text/plain": [
       "10000"
      ]
     },
     "execution_count": 161,
     "metadata": {},
     "output_type": "execute_result"
    }
   ],
   "source": [
    "all_tracks2 = get_playlist_tracks(\"1G8IpkZKobrIlXcVPoSIuf\")\n",
    "len(all_tracks2)"
   ]
  },
  {
   "cell_type": "code",
   "execution_count": 163,
   "id": "0c6f7c6c",
   "metadata": {},
   "outputs": [],
   "source": [
    "title = []\n",
    "artist = []\n",
    "uri = []\n",
    "for i in range(len(all_tracks2)):\n",
    "    try:\n",
    "        artist.append(all_tracks2[i][\"track\"][\"album\"]['artists'][0]['name'])\n",
    "        title.append(all_tracks2[i]['track']['name'])\n",
    "        uri.append(all_tracks2[i]['track']['uri'])\n",
    "    except:\n",
    "        artist.append('None')\n",
    "        title.append('None')\n",
    "        uri.append('None')"
   ]
  },
  {
   "cell_type": "code",
   "execution_count": 167,
   "id": "b1d07f71",
   "metadata": {},
   "outputs": [
    {
     "data": {
      "text/plain": [
       "10000"
      ]
     },
     "execution_count": 167,
     "metadata": {},
     "output_type": "execute_result"
    }
   ],
   "source": [
    "len(title)\n",
    "len(uri)\n",
    "len(artist)"
   ]
  },
  {
   "cell_type": "code",
   "execution_count": 168,
   "id": "96134718",
   "metadata": {},
   "outputs": [],
   "source": [
    "pl2 = pd.DataFrame({'artist' : artist, 'title' : title, 'uri': uri})"
   ]
  },
  {
   "cell_type": "code",
   "execution_count": 169,
   "id": "f4b1daed",
   "metadata": {},
   "outputs": [
    {
     "data": {
      "text/html": [
       "<div>\n",
       "<style scoped>\n",
       "    .dataframe tbody tr th:only-of-type {\n",
       "        vertical-align: middle;\n",
       "    }\n",
       "\n",
       "    .dataframe tbody tr th {\n",
       "        vertical-align: top;\n",
       "    }\n",
       "\n",
       "    .dataframe thead th {\n",
       "        text-align: right;\n",
       "    }\n",
       "</style>\n",
       "<table border=\"1\" class=\"dataframe\">\n",
       "  <thead>\n",
       "    <tr style=\"text-align: right;\">\n",
       "      <th></th>\n",
       "      <th>artist</th>\n",
       "      <th>title</th>\n",
       "      <th>uri</th>\n",
       "    </tr>\n",
       "  </thead>\n",
       "  <tbody>\n",
       "    <tr>\n",
       "      <th>0</th>\n",
       "      <td>Bob Dylan</td>\n",
       "      <td>Like a Rolling Stone</td>\n",
       "      <td>spotify:track:3AhXZa8sUQht0UEdBJgpGc</td>\n",
       "    </tr>\n",
       "    <tr>\n",
       "      <th>1</th>\n",
       "      <td>Nirvana</td>\n",
       "      <td>Smells Like Teen Spirit</td>\n",
       "      <td>spotify:track:3oTlkzk1OtrhH8wBAduVEi</td>\n",
       "    </tr>\n",
       "    <tr>\n",
       "      <th>2</th>\n",
       "      <td>The Beatles</td>\n",
       "      <td>A Day In The Life - Remastered</td>\n",
       "      <td>spotify:track:3ZFBeIyP41HhnALjxWy1pR</td>\n",
       "    </tr>\n",
       "    <tr>\n",
       "      <th>3</th>\n",
       "      <td>The Beach Boys</td>\n",
       "      <td>Good Vibrations (Mono)</td>\n",
       "      <td>spotify:track:5Qt4Cc66g24QWwGP3YYV9y</td>\n",
       "    </tr>\n",
       "    <tr>\n",
       "      <th>4</th>\n",
       "      <td>Chuck Berry</td>\n",
       "      <td>Johnny B Goode</td>\n",
       "      <td>spotify:track:7MH2ZclofPlTrZOkPzZKhK</td>\n",
       "    </tr>\n",
       "  </tbody>\n",
       "</table>\n",
       "</div>"
      ],
      "text/plain": [
       "           artist                           title  \\\n",
       "0       Bob Dylan            Like a Rolling Stone   \n",
       "1         Nirvana         Smells Like Teen Spirit   \n",
       "2     The Beatles  A Day In The Life - Remastered   \n",
       "3  The Beach Boys          Good Vibrations (Mono)   \n",
       "4     Chuck Berry                  Johnny B Goode   \n",
       "\n",
       "                                    uri  \n",
       "0  spotify:track:3AhXZa8sUQht0UEdBJgpGc  \n",
       "1  spotify:track:3oTlkzk1OtrhH8wBAduVEi  \n",
       "2  spotify:track:3ZFBeIyP41HhnALjxWy1pR  \n",
       "3  spotify:track:5Qt4Cc66g24QWwGP3YYV9y  \n",
       "4  spotify:track:7MH2ZclofPlTrZOkPzZKhK  "
      ]
     },
     "execution_count": 169,
     "metadata": {},
     "output_type": "execute_result"
    }
   ],
   "source": [
    "pl2.head()"
   ]
  },
  {
   "cell_type": "code",
   "execution_count": null,
   "id": "d4b30cd7",
   "metadata": {},
   "outputs": [],
   "source": []
  },
  {
   "cell_type": "markdown",
   "id": "5322ab04",
   "metadata": {},
   "source": [
    "### Third playlist: "
   ]
  },
  {
   "cell_type": "code",
   "execution_count": null,
   "id": "2b1e91a5",
   "metadata": {},
   "outputs": [],
   "source": [
    "# tomorrow morning"
   ]
  },
  {
   "cell_type": "code",
   "execution_count": null,
   "id": "3dc8648e",
   "metadata": {},
   "outputs": [],
   "source": []
  },
  {
   "cell_type": "markdown",
   "id": "78a77f0c",
   "metadata": {},
   "source": [
    "### Concat the pl-dataframes: "
   ]
  },
  {
   "cell_type": "code",
   "execution_count": 170,
   "id": "33c689d5",
   "metadata": {},
   "outputs": [],
   "source": [
    "frames = [pl1, pl2]\n",
    "  \n",
    "playlist_all = pd.concat(frames)"
   ]
  },
  {
   "cell_type": "code",
   "execution_count": 179,
   "id": "c82f5996",
   "metadata": {},
   "outputs": [
    {
     "data": {
      "text/html": [
       "<div>\n",
       "<style scoped>\n",
       "    .dataframe tbody tr th:only-of-type {\n",
       "        vertical-align: middle;\n",
       "    }\n",
       "\n",
       "    .dataframe tbody tr th {\n",
       "        vertical-align: top;\n",
       "    }\n",
       "\n",
       "    .dataframe thead th {\n",
       "        text-align: right;\n",
       "    }\n",
       "</style>\n",
       "<table border=\"1\" class=\"dataframe\">\n",
       "  <thead>\n",
       "    <tr style=\"text-align: right;\">\n",
       "      <th></th>\n",
       "      <th>artist</th>\n",
       "      <th>title</th>\n",
       "      <th>uri</th>\n",
       "    </tr>\n",
       "  </thead>\n",
       "  <tbody>\n",
       "    <tr>\n",
       "      <th>0</th>\n",
       "      <td>Hozier</td>\n",
       "      <td>Take Me To Church</td>\n",
       "      <td>spotify:track:7dS5EaCoMnN7DzlpT6aRn2</td>\n",
       "    </tr>\n",
       "    <tr>\n",
       "      <th>1</th>\n",
       "      <td>Mike Posner</td>\n",
       "      <td>Cooler Than Me - Single Mix</td>\n",
       "      <td>spotify:track:2V4bv1fNWfTcyRJKmej6Sj</td>\n",
       "    </tr>\n",
       "    <tr>\n",
       "      <th>2</th>\n",
       "      <td>Tyler, The Creator</td>\n",
       "      <td>See You Again (feat. Kali Uchis)</td>\n",
       "      <td>spotify:track:7KA4W4McWYRpgf0fWsJZWB</td>\n",
       "    </tr>\n",
       "    <tr>\n",
       "      <th>3</th>\n",
       "      <td>Bastille</td>\n",
       "      <td>Pompeii</td>\n",
       "      <td>spotify:track:3gbBpTdY8lnQwqxNCcf795</td>\n",
       "    </tr>\n",
       "    <tr>\n",
       "      <th>4</th>\n",
       "      <td>Shakira</td>\n",
       "      <td>Hips Don't Lie (feat. Wyclef Jean)</td>\n",
       "      <td>spotify:track:3ZFTkvIE7kyPt6Nu3PEa7V</td>\n",
       "    </tr>\n",
       "  </tbody>\n",
       "</table>\n",
       "</div>"
      ],
      "text/plain": [
       "               artist                               title  \\\n",
       "0              Hozier                   Take Me To Church   \n",
       "1         Mike Posner         Cooler Than Me - Single Mix   \n",
       "2  Tyler, The Creator    See You Again (feat. Kali Uchis)   \n",
       "3            Bastille                             Pompeii   \n",
       "4             Shakira  Hips Don't Lie (feat. Wyclef Jean)   \n",
       "\n",
       "                                    uri  \n",
       "0  spotify:track:7dS5EaCoMnN7DzlpT6aRn2  \n",
       "1  spotify:track:2V4bv1fNWfTcyRJKmej6Sj  \n",
       "2  spotify:track:7KA4W4McWYRpgf0fWsJZWB  \n",
       "3  spotify:track:3gbBpTdY8lnQwqxNCcf795  \n",
       "4  spotify:track:3ZFTkvIE7kyPt6Nu3PEa7V  "
      ]
     },
     "execution_count": 179,
     "metadata": {},
     "output_type": "execute_result"
    }
   ],
   "source": [
    "playlist_all.head()"
   ]
  },
  {
   "cell_type": "code",
   "execution_count": null,
   "id": "ee87cc18",
   "metadata": {},
   "outputs": [],
   "source": []
  },
  {
   "cell_type": "code",
   "execution_count": null,
   "id": "aeacacaf",
   "metadata": {},
   "outputs": [],
   "source": [
    "# get rid of duplicates"
   ]
  },
  {
   "cell_type": "code",
   "execution_count": 186,
   "id": "1f4bd5e0",
   "metadata": {},
   "outputs": [],
   "source": [
    "duplicates = playlist_all[playlist_all.duplicated('uri')]"
   ]
  },
  {
   "cell_type": "code",
   "execution_count": 187,
   "id": "36f6deca",
   "metadata": {},
   "outputs": [
    {
     "data": {
      "text/html": [
       "<div>\n",
       "<style scoped>\n",
       "    .dataframe tbody tr th:only-of-type {\n",
       "        vertical-align: middle;\n",
       "    }\n",
       "\n",
       "    .dataframe tbody tr th {\n",
       "        vertical-align: top;\n",
       "    }\n",
       "\n",
       "    .dataframe thead th {\n",
       "        text-align: right;\n",
       "    }\n",
       "</style>\n",
       "<table border=\"1\" class=\"dataframe\">\n",
       "  <thead>\n",
       "    <tr style=\"text-align: right;\">\n",
       "      <th></th>\n",
       "      <th>artist</th>\n",
       "      <th>title</th>\n",
       "      <th>uri</th>\n",
       "    </tr>\n",
       "  </thead>\n",
       "  <tbody>\n",
       "    <tr>\n",
       "      <th>282</th>\n",
       "      <td>Selena Gomez</td>\n",
       "      <td>Kill Em With Kindness</td>\n",
       "      <td>spotify:track:7KxhSJOYiqCDclXDBNlFSZ</td>\n",
       "    </tr>\n",
       "    <tr>\n",
       "      <th>404</th>\n",
       "      <td>P!nk</td>\n",
       "      <td>U + Ur Hand</td>\n",
       "      <td>spotify:track:7klL6qvAu4ZzthaUzLvtIN</td>\n",
       "    </tr>\n",
       "    <tr>\n",
       "      <th>561</th>\n",
       "      <td>Rihanna</td>\n",
       "      <td>SOS</td>\n",
       "      <td>spotify:track:4S5b3wwIXpVNvY2jeIQdKu</td>\n",
       "    </tr>\n",
       "    <tr>\n",
       "      <th>1341</th>\n",
       "      <td>Otto Knows</td>\n",
       "      <td>Next to Me</td>\n",
       "      <td>spotify:track:6ZixfeFT8V0Nle1rMZAekY</td>\n",
       "    </tr>\n",
       "    <tr>\n",
       "      <th>1548</th>\n",
       "      <td>SANNI</td>\n",
       "      <td>Tahdon rakastella sinua</td>\n",
       "      <td>spotify:track:6FwrG9yyKfGve1wOMq98f9</td>\n",
       "    </tr>\n",
       "    <tr>\n",
       "      <th>...</th>\n",
       "      <td>...</td>\n",
       "      <td>...</td>\n",
       "      <td>...</td>\n",
       "    </tr>\n",
       "    <tr>\n",
       "      <th>9819</th>\n",
       "      <td>None</td>\n",
       "      <td>None</td>\n",
       "      <td>None</td>\n",
       "    </tr>\n",
       "    <tr>\n",
       "      <th>9839</th>\n",
       "      <td>Bloodhound Gang</td>\n",
       "      <td>The Bad Touch</td>\n",
       "      <td>spotify:track:5tXeQjDShUMNSelZirUOEu</td>\n",
       "    </tr>\n",
       "    <tr>\n",
       "      <th>9846</th>\n",
       "      <td>None</td>\n",
       "      <td>None</td>\n",
       "      <td>None</td>\n",
       "    </tr>\n",
       "    <tr>\n",
       "      <th>9850</th>\n",
       "      <td>None</td>\n",
       "      <td>None</td>\n",
       "      <td>None</td>\n",
       "    </tr>\n",
       "    <tr>\n",
       "      <th>9865</th>\n",
       "      <td>None</td>\n",
       "      <td>None</td>\n",
       "      <td>None</td>\n",
       "    </tr>\n",
       "  </tbody>\n",
       "</table>\n",
       "<p>250 rows × 3 columns</p>\n",
       "</div>"
      ],
      "text/plain": [
       "               artist                    title  \\\n",
       "282      Selena Gomez    Kill Em With Kindness   \n",
       "404              P!nk              U + Ur Hand   \n",
       "561           Rihanna                      SOS   \n",
       "1341       Otto Knows               Next to Me   \n",
       "1548            SANNI  Tahdon rakastella sinua   \n",
       "...               ...                      ...   \n",
       "9819             None                     None   \n",
       "9839  Bloodhound Gang            The Bad Touch   \n",
       "9846             None                     None   \n",
       "9850             None                     None   \n",
       "9865             None                     None   \n",
       "\n",
       "                                       uri  \n",
       "282   spotify:track:7KxhSJOYiqCDclXDBNlFSZ  \n",
       "404   spotify:track:7klL6qvAu4ZzthaUzLvtIN  \n",
       "561   spotify:track:4S5b3wwIXpVNvY2jeIQdKu  \n",
       "1341  spotify:track:6ZixfeFT8V0Nle1rMZAekY  \n",
       "1548  spotify:track:6FwrG9yyKfGve1wOMq98f9  \n",
       "...                                    ...  \n",
       "9819                                  None  \n",
       "9839  spotify:track:5tXeQjDShUMNSelZirUOEu  \n",
       "9846                                  None  \n",
       "9850                                  None  \n",
       "9865                                  None  \n",
       "\n",
       "[250 rows x 3 columns]"
      ]
     },
     "execution_count": 187,
     "metadata": {},
     "output_type": "execute_result"
    }
   ],
   "source": [
    "duplicates"
   ]
  },
  {
   "cell_type": "code",
   "execution_count": null,
   "id": "92b03cc5",
   "metadata": {},
   "outputs": [],
   "source": []
  },
  {
   "cell_type": "code",
   "execution_count": null,
   "id": "4ea57350",
   "metadata": {},
   "outputs": [],
   "source": []
  },
  {
   "cell_type": "code",
   "execution_count": null,
   "id": "52e91e2f",
   "metadata": {},
   "outputs": [],
   "source": []
  },
  {
   "cell_type": "code",
   "execution_count": null,
   "id": "4801f789",
   "metadata": {},
   "outputs": [],
   "source": []
  },
  {
   "cell_type": "code",
   "execution_count": null,
   "id": "1afca761",
   "metadata": {},
   "outputs": [],
   "source": []
  },
  {
   "cell_type": "code",
   "execution_count": null,
   "id": "86ad618f",
   "metadata": {},
   "outputs": [],
   "source": []
  },
  {
   "cell_type": "code",
   "execution_count": null,
   "id": "2da1168b",
   "metadata": {},
   "outputs": [],
   "source": []
  },
  {
   "cell_type": "code",
   "execution_count": null,
   "id": "550fe7b3",
   "metadata": {},
   "outputs": [],
   "source": []
  },
  {
   "cell_type": "code",
   "execution_count": null,
   "id": "80314dee",
   "metadata": {},
   "outputs": [],
   "source": []
  },
  {
   "cell_type": "code",
   "execution_count": null,
   "id": "c7bfae64",
   "metadata": {},
   "outputs": [],
   "source": []
  },
  {
   "cell_type": "code",
   "execution_count": null,
   "id": "32e75169",
   "metadata": {},
   "outputs": [],
   "source": []
  },
  {
   "cell_type": "code",
   "execution_count": null,
   "id": "0513713b",
   "metadata": {},
   "outputs": [],
   "source": []
  },
  {
   "cell_type": "code",
   "execution_count": null,
   "id": "bfe57766",
   "metadata": {},
   "outputs": [],
   "source": []
  },
  {
   "cell_type": "code",
   "execution_count": null,
   "id": "c7869067",
   "metadata": {},
   "outputs": [],
   "source": []
  },
  {
   "cell_type": "code",
   "execution_count": null,
   "id": "b8e285a4",
   "metadata": {},
   "outputs": [],
   "source": []
  },
  {
   "cell_type": "code",
   "execution_count": null,
   "id": "96aa34e2",
   "metadata": {},
   "outputs": [],
   "source": []
  },
  {
   "cell_type": "code",
   "execution_count": null,
   "id": "d5f2a409",
   "metadata": {},
   "outputs": [],
   "source": []
  },
  {
   "cell_type": "code",
   "execution_count": null,
   "id": "84c9b3ba",
   "metadata": {},
   "outputs": [],
   "source": []
  },
  {
   "cell_type": "code",
   "execution_count": null,
   "id": "94633f32",
   "metadata": {},
   "outputs": [],
   "source": []
  },
  {
   "cell_type": "code",
   "execution_count": null,
   "id": "14050edc",
   "metadata": {},
   "outputs": [],
   "source": []
  },
  {
   "cell_type": "code",
   "execution_count": null,
   "id": "1c5b6914",
   "metadata": {},
   "outputs": [],
   "source": []
  },
  {
   "cell_type": "code",
   "execution_count": null,
   "id": "75d6f7f8",
   "metadata": {},
   "outputs": [],
   "source": []
  },
  {
   "cell_type": "code",
   "execution_count": null,
   "id": "890cca7d",
   "metadata": {},
   "outputs": [],
   "source": []
  },
  {
   "cell_type": "code",
   "execution_count": null,
   "id": "50a85231",
   "metadata": {},
   "outputs": [],
   "source": []
  },
  {
   "cell_type": "code",
   "execution_count": null,
   "id": "c36df4b4",
   "metadata": {},
   "outputs": [],
   "source": []
  },
  {
   "cell_type": "code",
   "execution_count": null,
   "id": "db35d90e",
   "metadata": {},
   "outputs": [],
   "source": []
  },
  {
   "cell_type": "code",
   "execution_count": null,
   "id": "ed4110d1",
   "metadata": {},
   "outputs": [],
   "source": []
  },
  {
   "cell_type": "code",
   "execution_count": null,
   "id": "bb76bb74",
   "metadata": {},
   "outputs": [],
   "source": []
  },
  {
   "cell_type": "code",
   "execution_count": null,
   "id": "269bfff7",
   "metadata": {},
   "outputs": [],
   "source": []
  },
  {
   "cell_type": "code",
   "execution_count": null,
   "id": "fdbaaee1",
   "metadata": {},
   "outputs": [],
   "source": []
  },
  {
   "cell_type": "code",
   "execution_count": null,
   "id": "5e229f90",
   "metadata": {},
   "outputs": [],
   "source": []
  },
  {
   "cell_type": "code",
   "execution_count": null,
   "id": "9f2780d1",
   "metadata": {},
   "outputs": [],
   "source": []
  }
 ],
 "metadata": {
  "kernelspec": {
   "display_name": "Python 3 (ipykernel)",
   "language": "python",
   "name": "python3"
  },
  "language_info": {
   "codemirror_mode": {
    "name": "ipython",
    "version": 3
   },
   "file_extension": ".py",
   "mimetype": "text/x-python",
   "name": "python",
   "nbconvert_exporter": "python",
   "pygments_lexer": "ipython3",
   "version": "3.9.12"
  }
 },
 "nbformat": 4,
 "nbformat_minor": 5
}
